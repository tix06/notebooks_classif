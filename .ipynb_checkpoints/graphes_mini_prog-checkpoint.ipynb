{
 "cells": [
  {
   "cell_type": "markdown",
   "metadata": {},
   "source": [
    "# Arbres de classification\n",
    "\n",
    "Lien vers le notebook en ligne : [https://mybinder.org/v2/gh/tix06/notebooks_classif/master](https://mybinder.org/v2/gh/tix06/notebooks_classif/master)\n",
    "\n",
    "> Choisir alors le fichier : `graphes_mini_prog.ipynb`\n",
    "\n",
    "## Définition\n",
    "Un arbre de classification est utile pour réaliser des prévisions de manière *explicite*. C'est une méthode d'appentissage automatisé (machine learning) supervisé (les classes des entrées sont connue).\n",
    "\n",
    "A partir des valeurs des données en entrée, l'algorithme va créer des règles pour segmenter, au mieux, la population (les index des entrées) à chaque noeud. En descendant dans l'arbre de classification, on parcourt ses noeuds. Le nombre d'éléments qu'il reste à classer diminue du noeud parent vers un noeud fils : tous les éléments se répartissent sur tous les noeuds fils.\n",
    "\n",
    "Enfin, lorsque les éléments d'un noeuds ont tous la même classe, alors la division est terminée. Ce noeud est alors une feuille.\n",
    "\n",
    "*Exemple :* ici, les noeuds 4, 6, 7, 8, 9, 10 sont des feuilles. Ces noeuds contiennent chacun une partie des éléments qui ont servi à construire l'arbre. La totalité de ces éléments occupent le noeud *racine*, numéro 0, puis sont répartis dans les feuilles selon leur classe.\n",
    "\n",
    "![exemple d'arbre de classification](datas/hierarchy.png)\n",
    "\n",
    "## Principe\n",
    "Utilisation de la librairie sklearn pour créer un arbre de classification/décision à partir d'un fichier de données.\n",
    "\n",
    "L'arbre de decision est construit à partir d'une segmentation optimale qui est réalisée sur les entrées (les lignes du tableau).\n",
    "\n",
    "# Jouer ou ne pas jouer\n",
    "## fichier de données\n",
    "Ici, le fichier de données est `datas/jouer0.png`. Il contient les données méteorologiques et les classes (jouer/ne pas jouer au golf) pour plusieurs types de conditions météo (les lignes).\n",
    "\n",
    "Ce fichier ne devra contenir que des données numériques (mis à part la première ligne, contenant les étiquettes des colonnes, les *features*).\n",
    "\n",
    "## Classifier puis prédire\n",
    "Une fois l'arbre de classification établi, on pourra le parcourir pour *prédire* la classe d'une nouvelle entrée, en fonction de ses valeurs : l'arbre sert alors comme une *aide à la décision*.\n",
    "\n",
    "En pratique, il faudra créer une structure qui contient l'arbre, avec ses noeuds, leur association, et les tests qui sont effectués pour descendre d'un noeud parent à l'un des ses noeuds fils. On peut choisir d'utiliser un *dictionnaire python* pour contenir cette structure. Le *dictionnaire* étant un *tableau associatif*.\n",
    "\n",
    "Comme les données sont toutes *numériques*, les tests réalisés à chaque noeud, pour traduire la division des éléments s'écrivent de la manière suivante : \n",
    "\n",
    "Soit X une liste de listes contenant : les éléments à classer, et les valeurs pour chacun des éléments : \n",
    "\n",
    "`X[i]` fait alors référence à la valeur des éléments pour la colonne n°i.\n",
    "\n",
    "```\n",
    "pour touts les éléments présents au noeud courant : \n",
    "    si X[i] <= valeur_seuil alors :\n",
    "        descendre vers le noeud fils gauche\n",
    "        sinon : descendre vers le noeud fils droit\n",
    "   ```\n",
    "\n",
    "\n",
    "## Import des librairie et création de l'arbre de décision"
   ]
  },
  {
   "cell_type": "code",
   "execution_count": 1,
   "metadata": {},
   "outputs": [
    {
     "data": {
      "text/html": [
       "<div>\n",
       "<style scoped>\n",
       "    .dataframe tbody tr th:only-of-type {\n",
       "        vertical-align: middle;\n",
       "    }\n",
       "\n",
       "    .dataframe tbody tr th {\n",
       "        vertical-align: top;\n",
       "    }\n",
       "\n",
       "    .dataframe thead th {\n",
       "        text-align: right;\n",
       "    }\n",
       "</style>\n",
       "<table border=\"1\" class=\"dataframe\">\n",
       "  <thead>\n",
       "    <tr style=\"text-align: right;\">\n",
       "      <th></th>\n",
       "      <th>temps</th>\n",
       "      <th>température</th>\n",
       "      <th>humidité</th>\n",
       "      <th>vent</th>\n",
       "      <th>jouer</th>\n",
       "    </tr>\n",
       "  </thead>\n",
       "  <tbody>\n",
       "    <tr>\n",
       "      <th>0</th>\n",
       "      <td>1</td>\n",
       "      <td>30</td>\n",
       "      <td>85</td>\n",
       "      <td>0</td>\n",
       "      <td>0</td>\n",
       "    </tr>\n",
       "    <tr>\n",
       "      <th>1</th>\n",
       "      <td>1</td>\n",
       "      <td>27</td>\n",
       "      <td>90</td>\n",
       "      <td>1</td>\n",
       "      <td>0</td>\n",
       "    </tr>\n",
       "    <tr>\n",
       "      <th>2</th>\n",
       "      <td>0</td>\n",
       "      <td>28</td>\n",
       "      <td>78</td>\n",
       "      <td>0</td>\n",
       "      <td>1</td>\n",
       "    </tr>\n",
       "    <tr>\n",
       "      <th>3</th>\n",
       "      <td>-1</td>\n",
       "      <td>21</td>\n",
       "      <td>96</td>\n",
       "      <td>0</td>\n",
       "      <td>1</td>\n",
       "    </tr>\n",
       "    <tr>\n",
       "      <th>4</th>\n",
       "      <td>-1</td>\n",
       "      <td>20</td>\n",
       "      <td>80</td>\n",
       "      <td>0</td>\n",
       "      <td>1</td>\n",
       "    </tr>\n",
       "    <tr>\n",
       "      <th>5</th>\n",
       "      <td>-1</td>\n",
       "      <td>18</td>\n",
       "      <td>70</td>\n",
       "      <td>1</td>\n",
       "      <td>0</td>\n",
       "    </tr>\n",
       "    <tr>\n",
       "      <th>6</th>\n",
       "      <td>0</td>\n",
       "      <td>18</td>\n",
       "      <td>65</td>\n",
       "      <td>1</td>\n",
       "      <td>1</td>\n",
       "    </tr>\n",
       "    <tr>\n",
       "      <th>7</th>\n",
       "      <td>1</td>\n",
       "      <td>22</td>\n",
       "      <td>95</td>\n",
       "      <td>0</td>\n",
       "      <td>0</td>\n",
       "    </tr>\n",
       "    <tr>\n",
       "      <th>8</th>\n",
       "      <td>1</td>\n",
       "      <td>21</td>\n",
       "      <td>70</td>\n",
       "      <td>0</td>\n",
       "      <td>1</td>\n",
       "    </tr>\n",
       "    <tr>\n",
       "      <th>9</th>\n",
       "      <td>-1</td>\n",
       "      <td>24</td>\n",
       "      <td>80</td>\n",
       "      <td>0</td>\n",
       "      <td>1</td>\n",
       "    </tr>\n",
       "    <tr>\n",
       "      <th>10</th>\n",
       "      <td>1</td>\n",
       "      <td>24</td>\n",
       "      <td>70</td>\n",
       "      <td>1</td>\n",
       "      <td>1</td>\n",
       "    </tr>\n",
       "    <tr>\n",
       "      <th>11</th>\n",
       "      <td>0</td>\n",
       "      <td>22</td>\n",
       "      <td>90</td>\n",
       "      <td>1</td>\n",
       "      <td>1</td>\n",
       "    </tr>\n",
       "    <tr>\n",
       "      <th>12</th>\n",
       "      <td>0</td>\n",
       "      <td>27</td>\n",
       "      <td>75</td>\n",
       "      <td>0</td>\n",
       "      <td>1</td>\n",
       "    </tr>\n",
       "    <tr>\n",
       "      <th>13</th>\n",
       "      <td>-1</td>\n",
       "      <td>22</td>\n",
       "      <td>80</td>\n",
       "      <td>1</td>\n",
       "      <td>0</td>\n",
       "    </tr>\n",
       "  </tbody>\n",
       "</table>\n",
       "</div>"
      ],
      "text/plain": [
       "    temps  température  humidité  vent  jouer\n",
       "0       1           30        85     0      0\n",
       "1       1           27        90     1      0\n",
       "2       0           28        78     0      1\n",
       "3      -1           21        96     0      1\n",
       "4      -1           20        80     0      1\n",
       "5      -1           18        70     1      0\n",
       "6       0           18        65     1      1\n",
       "7       1           22        95     0      0\n",
       "8       1           21        70     0      1\n",
       "9      -1           24        80     0      1\n",
       "10      1           24        70     1      1\n",
       "11      0           22        90     1      1\n",
       "12      0           27        75     0      1\n",
       "13     -1           22        80     1      0"
      ]
     },
     "execution_count": 1,
     "metadata": {},
     "output_type": "execute_result"
    }
   ],
   "source": [
    "from sklearn import tree\n",
    "from sklearn.tree import DecisionTreeClassifier\n",
    "from sklearn.tree import export_text\n",
    "import pandas as pd\n",
    "df = pd.read_csv(\"datas/jouer0.csv\",sep=\";\")\n",
    "#col = df.columns\n",
    "X = df.iloc[:,:-1] # les données sont toutes les colonnes du tableau sauf la dernière\n",
    "y = df.iloc[:,-1]  # les classes sont dans la dernière colonne (jouer/ne pas jouer)\n",
    "\n",
    "clf = tree.DecisionTreeClassifier()\n",
    "clf = clf.fit(X, y)  # on entraine l'arbre à l'aide du jeu de données\n",
    "df"
   ]
  },
  {
   "cell_type": "markdown",
   "metadata": {},
   "source": [
    "## accéder au paramètres calculés pour l'arbre"
   ]
  },
  {
   "cell_type": "code",
   "execution_count": 2,
   "metadata": {},
   "outputs": [],
   "source": [
    "# Using those arrays, we can parse the tree structure:\n",
    "\n",
    "n_nodes = clf.tree_.node_count\n",
    "children_left = clf.tree_.children_left    # noeud fils gauche pour le noeud courant (ou -1 si aucun noeud enfant)\n",
    "children_right = clf.tree_.children_right  # noeud fils droit pour le noeud courant (ou -1 si aucun noeud enfant)\n",
    "feature = clf.tree_.feature                # numéro de la colonne pour la valeur testée \n",
    "#                                          # par exemple : feature = 0 <=> temps\n",
    "#                                          # par exemple : feature = 1 <=> temperature ...                                            \n",
    "threshold = clf.tree_.threshold            # valeur seuil du test realisé au noeud courant\n",
    "\n",
    "\n",
    "\n"
   ]
  },
  {
   "cell_type": "markdown",
   "metadata": {},
   "source": [
    "## Exploration de la structure de données "
   ]
  },
  {
   "cell_type": "code",
   "execution_count": 3,
   "metadata": {},
   "outputs": [
    {
     "name": "stdout",
     "output_type": "stream",
     "text": [
      "noeud : 0\n",
      "fg : 1\n",
      "fd : 6\n",
      "feature :  0\n",
      "thershold : 0.5\n",
      "----------\n",
      "noeud : 1\n",
      "fg : 2\n",
      "fd : 3\n",
      "feature :  3\n",
      "thershold : 0.5\n",
      "----------\n",
      "noeud : 2\n",
      "fg : -1\n",
      "fd : -1\n",
      "feature :  -2\n",
      "thershold : -2.0\n",
      "----------\n",
      "noeud : 3\n",
      "fg : 4\n",
      "fd : 5\n",
      "feature :  0\n",
      "thershold : -0.5\n",
      "----------\n",
      "noeud : 4\n",
      "fg : -1\n",
      "fd : -1\n",
      "feature :  -2\n",
      "thershold : -2.0\n",
      "----------\n",
      "noeud : 5\n",
      "fg : -1\n",
      "fd : -1\n",
      "feature :  -2\n",
      "thershold : -2.0\n",
      "----------\n",
      "noeud : 6\n",
      "fg : 7\n",
      "fd : 8\n",
      "feature :  2\n",
      "thershold : 77.5\n",
      "----------\n",
      "noeud : 7\n",
      "fg : -1\n",
      "fd : -1\n",
      "feature :  -2\n",
      "thershold : -2.0\n",
      "----------\n",
      "noeud : 8\n",
      "fg : -1\n",
      "fd : -1\n",
      "feature :  -2\n",
      "thershold : -2.0\n",
      "----------\n"
     ]
    }
   ],
   "source": [
    "for i in  range(n_nodes):\n",
    "    print('noeud :',i)\n",
    "    print('fg :',children_left[i])\n",
    "    print('fd :', children_right[i])\n",
    "    print('feature : ',feature[i])\n",
    "    print('thershold :',threshold[i])\n",
    "    print('----------')\n",
    "    \n",
    "\n"
   ]
  },
  {
   "cell_type": "markdown",
   "metadata": {},
   "source": [
    "## creation d'une structure de type dictionnaire pour contenir la structure"
   ]
  },
  {
   "cell_type": "code",
   "execution_count": 4,
   "metadata": {},
   "outputs": [
    {
     "data": {
      "text/plain": [
       "{'node': 0,\n",
       " 'feature': 0,\n",
       " 'threshold': 0.5,\n",
       " 'fg': {'node': 1,\n",
       "  'feature': 3,\n",
       "  'threshold': 0.5,\n",
       "  'fg': {'node': 2},\n",
       "  'fd': {'node': 3,\n",
       "   'feature': 0,\n",
       "   'threshold': -0.5,\n",
       "   'fg': {'node': 4},\n",
       "   'fd': {'node': 5}}},\n",
       " 'fd': {'node': 6,\n",
       "  'feature': 2,\n",
       "  'threshold': 77.5,\n",
       "  'fg': {'node': 7},\n",
       "  'fd': {'node': 8}}}"
      ]
     },
     "execution_count": 4,
     "metadata": {},
     "output_type": "execute_result"
    }
   ],
   "source": [
    "def isleaves(node):\n",
    "    if (children_left[node]==-1 & children_right[node]==-1) :\n",
    "        return True\n",
    "    else:\n",
    "        return False\n",
    "\n",
    "\n",
    "def construct(node_id):\n",
    "    arbre[node_id] = {}\n",
    "    #if node_id != 0:\n",
    "    if isleaves(node_id):\n",
    "        return {'node':node_id}\n",
    "    else : \n",
    "        return {'node':node_id,'feature':feature[node_id],'threshold':threshold[node_id],'fg':construct(children_left[node_id]),'fd':construct(children_right[node_id])}\n",
    "        \n",
    "arbre = {}       \n",
    "construct(0)"
   ]
  },
  {
   "cell_type": "code",
   "execution_count": 5,
   "metadata": {},
   "outputs": [
    {
     "name": "stdout",
     "output_type": "stream",
     "text": [
      "|--- feature_0 <= 0.50\n",
      "|   |--- feature_3 <= 0.50\n",
      "|   |   |--- class: 1\n",
      "|   |--- feature_3 >  0.50\n",
      "|   |   |--- feature_0 <= -0.50\n",
      "|   |   |   |--- class: 0\n",
      "|   |   |--- feature_0 >  -0.50\n",
      "|   |   |   |--- class: 1\n",
      "|--- feature_0 >  0.50\n",
      "|   |--- feature_2 <= 77.50\n",
      "|   |   |--- class: 1\n",
      "|   |--- feature_2 >  77.50\n",
      "|   |   |--- class: 0\n",
      "\n"
     ]
    }
   ],
   "source": [
    "# visualisation du graphe en console\n",
    "r = export_text(clf, feature_names=None)\n",
    "print(r)"
   ]
  },
  {
   "cell_type": "code",
   "execution_count": 6,
   "metadata": {},
   "outputs": [
    {
     "data": {
      "text/plain": [
       "[Text(167.4, 190.26, 'X[0] <= 0.5\\ngini = 0.459\\nsamples = 14\\nvalue = [5, 9]'),\n",
       " Text(83.7, 135.9, 'X[3] <= 0.5\\ngini = 0.346\\nsamples = 9\\nvalue = [2, 7]'),\n",
       " Text(41.85, 81.53999999999999, 'gini = 0.0\\nsamples = 5\\nvalue = [0, 5]'),\n",
       " Text(125.55000000000001, 81.53999999999999, 'X[0] <= -0.5\\ngini = 0.5\\nsamples = 4\\nvalue = [2, 2]'),\n",
       " Text(83.7, 27.180000000000007, 'gini = 0.0\\nsamples = 2\\nvalue = [2, 0]'),\n",
       " Text(167.4, 27.180000000000007, 'gini = 0.0\\nsamples = 2\\nvalue = [0, 2]'),\n",
       " Text(251.10000000000002, 135.9, 'X[2] <= 77.5\\ngini = 0.48\\nsamples = 5\\nvalue = [3, 2]'),\n",
       " Text(209.25, 81.53999999999999, 'gini = 0.0\\nsamples = 2\\nvalue = [0, 2]'),\n",
       " Text(292.95, 81.53999999999999, 'gini = 0.0\\nsamples = 3\\nvalue = [3, 0]')]"
      ]
     },
     "execution_count": 6,
     "metadata": {},
     "output_type": "execute_result"
    },
    {
     "data": {
      "image/png": "[encoded data removed]",
      "text/plain": [
       "<Figure size 432x288 with 1 Axes>"
      ]
     },
     "metadata": {
      "needs_background": "light"
     },
     "output_type": "display_data"
    }
   ],
   "source": [
    "# visualisation rapide de l'arbre de classification\n",
    "tree.plot_tree(clf)"
   ]
  },
  {
   "cell_type": "markdown",
   "metadata": {},
   "source": [
    "Contenu de chaque noeud : \n",
    "\n",
    "* la condition qui est testée : par ex au noeud 0, X[2]<=82.5 (humidité <=82.5) VRAI => à gauche, FAUX => à droite\n",
    "* le coefficient de gini (qui doit être égal à 0 ou presque dans les feuilles)\n",
    "* le nombre d'éléments dans le noeud\n",
    "* value = le nombre d'éléments de chaque classe [classe 0 : ne jouent pas, classe 1 : jouent]"
   ]
  },
  {
   "cell_type": "code",
   "execution_count": 7,
   "metadata": {},
   "outputs": [
    {
     "name": "stdout",
     "output_type": "stream",
     "text": [
      "{'node': 0, 'feature': 0, 'threshold': 0.5, 'fg': {'node': 1, 'feature': 3, 'threshold': 0.5, 'fg': {'node': 2}, 'fd': {'node': 3, 'feature': 0, 'threshold': -0.5, 'fg': {'node': 4}, 'fd': {'node': 5}}}, 'fd': {'node': 6, 'feature': 2, 'threshold': 77.5, 'fg': {'node': 7}, 'fd': {'node': 8}}}\n"
     ]
    }
   ],
   "source": [
    "arbre = construct(0)\n",
    "print(arbre)"
   ]
  },
  {
   "cell_type": "markdown",
   "metadata": {},
   "source": [
    "# Liens\n",
    "\n",
    "* wikipedia : arbres de décision : [https://fr.wikipedia.org/wiki/Arbre_de_décision_(apprentissage)](https://fr.wikipedia.org/wiki/Arbre_de_décision_(apprentissage))\n",
    "* dessiner un arbre dans la console [https://scikit-learn.org/stable/modules/tree.html](https://scikit-learn.org/stable/modules/tree.html)\n",
    "* utilisation de networkx : [https://networkx.github.io/documentation/stable/reference/introduction.html](https://networkx.github.io/documentation/stable/reference/introduction.html)"
   ]
  },
  {
   "cell_type": "code",
   "execution_count": null,
   "metadata": {},
   "outputs": [],
   "source": []
  }
 ],
 "metadata": {
  "kernelspec": {
   "display_name": "Python 3",
   "language": "python",
   "name": "python3"
  },
  "language_info": {
   "codemirror_mode": {
    "name": "ipython",
    "version": 3
   },
   "file_extension": ".py",
   "mimetype": "text/x-python",
   "name": "python",
   "nbconvert_exporter": "python",
   "pygments_lexer": "ipython3",
   "version": "3.7.6"
  }
 },
 "nbformat": 4,
 "nbformat_minor": 4
}
