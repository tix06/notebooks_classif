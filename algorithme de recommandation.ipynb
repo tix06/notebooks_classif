{
 "cells": [
  {
   "cell_type": "markdown",
   "metadata": {},
   "source": [
    "# Algorithmes de recommandation\n",
    "Il s'agit d'un cas très classique d'algorithme utilisé dans le web marketing. Un client choisit et met dans ses favoris un article, ou dans son panier. Le site lui propose des articles compatibles, ou similaires. La recommandation peut être basée sur la description de ces articles. L'algorithme va alors chercher les articles qui ont le plus de points communs dans leur description; c'est à dire le plus de mots communs dans leur descrition.\n",
    "\n",
    "![recommandation d'articles](datas/articlesCompatibles.png)\n",
    "\n",
    "La première étape pour calculer les similarités consiste à découper les descriptions en listes de mots (c'est la tokenisation) puis à prendre les racines des mots, les stems."
   ]
  },
  {
   "cell_type": "code",
   "execution_count": 1,
   "metadata": {},
   "outputs": [],
   "source": [
    "texte = \"\"\"\n",
    "Mardi 20 février, à la médiathèque des Mureaux (Yvelines), le chef de l’Etat a accompagné\n",
    "la locataire de la rue de Valois pour la remise officielle du rapport\n",
    "sur les bibliothèques, rédigé par leur ami commun, l’académicien\n",
    "Erik Orsenna, avec le concours de Noël Corbin, inspecteur général\n",
    "des affaires culturelles. L’occasion de présenter les premières\n",
    "mesures en faveur d’un « plan bibliothèques ».\n",
    "\"\"\""
   ]
  },
  {
   "cell_type": "code",
   "execution_count": 2,
   "metadata": {},
   "outputs": [],
   "source": [
    "import re\n",
    "def decoupe(texte):\n",
    "    \"\"\"\n",
    "    utilise une expression regulière pour découper le texte (en paramètre) : \n",
    "    - le découpage se fait en fonction de ; ou , ou ' ou \\n ou un (ou +) espaces\n",
    "    - on conserve enfin les stems qui font 4 caractères ou plus\n",
    "    la fonction retourne une liste de stems\n",
    "    un stem peut être présent plusieurs fois dans la liste retournée\n",
    "    \"\"\"\n",
    "    texte_decoupe = list(re.split('; |, |\\' |\\n |\\s+',texte))\n",
    "    texte_mini=[]\n",
    "    for t in texte_decoupe:\n",
    "        match = re.match('[a-z]{4,}',t)\n",
    "        if match!=None:\n",
    "            texte_mini.append(match.group(0))\n",
    "    return texte_mini\n"
   ]
  },
  {
   "cell_type": "code",
   "execution_count": 3,
   "metadata": {},
   "outputs": [
    {
     "data": {
      "text/plain": [
       "['chef',\n",
       " 'accompagn',\n",
       " 'locataire',\n",
       " 'pour',\n",
       " 'remise',\n",
       " 'officielle',\n",
       " 'rapport',\n",
       " 'biblioth',\n",
       " 'leur',\n",
       " 'commun',\n",
       " 'avec',\n",
       " 'concours',\n",
       " 'inspecteur',\n",
       " 'affaires',\n",
       " 'culturelles',\n",
       " 'premi',\n",
       " 'mesures',\n",
       " 'faveur',\n",
       " 'plan',\n",
       " 'biblioth']"
      ]
     },
     "execution_count": 3,
     "metadata": {},
     "output_type": "execute_result"
    }
   ],
   "source": [
    "texte_mini = decoupe(texte)\n",
    "texte_mini"
   ]
  },
  {
   "cell_type": "code",
   "execution_count": 4,
   "metadata": {},
   "outputs": [],
   "source": [
    "import pandas as pd\n",
    "df = pd.read_csv(\"datas/descriptif.csv\", sep=\";\")"
   ]
  },
  {
   "cell_type": "code",
   "execution_count": 5,
   "metadata": {},
   "outputs": [
    {
     "data": {
      "text/html": [
       "<div>\n",
       "<style scoped>\n",
       "    .dataframe tbody tr th:only-of-type {\n",
       "        vertical-align: middle;\n",
       "    }\n",
       "\n",
       "    .dataframe tbody tr th {\n",
       "        vertical-align: top;\n",
       "    }\n",
       "\n",
       "    .dataframe thead th {\n",
       "        text-align: right;\n",
       "    }\n",
       "</style>\n",
       "<table border=\"1\" class=\"dataframe\">\n",
       "  <thead>\n",
       "    <tr style=\"text-align: right;\">\n",
       "      <th></th>\n",
       "      <th>bande dessinee</th>\n",
       "      <th>roman</th>\n",
       "      <th>ordinateur</th>\n",
       "      <th>console de jeux</th>\n",
       "    </tr>\n",
       "  </thead>\n",
       "  <tbody>\n",
       "    <tr>\n",
       "      <th>0</th>\n",
       "      <td>une bande dessinee est un ouvrage illustre rac...</td>\n",
       "      <td>un roman est un ouvrage avec du texte  raconte...</td>\n",
       "      <td>un ordinateur est un dispositif pour produire ...</td>\n",
       "      <td>une console de jeu est un dispositif pour joue...</td>\n",
       "    </tr>\n",
       "  </tbody>\n",
       "</table>\n",
       "</div>"
      ],
      "text/plain": [
       "                                      bande dessinee  \\\n",
       "0  une bande dessinee est un ouvrage illustre rac...   \n",
       "\n",
       "                                               roman  \\\n",
       "0  un roman est un ouvrage avec du texte  raconte...   \n",
       "\n",
       "                                          ordinateur  \\\n",
       "0  un ordinateur est un dispositif pour produire ...   \n",
       "\n",
       "                                     console de jeux  \n",
       "0  une console de jeu est un dispositif pour joue...  "
      ]
     },
     "execution_count": 5,
     "metadata": {},
     "output_type": "execute_result"
    }
   ],
   "source": [
    "df"
   ]
  },
  {
   "cell_type": "code",
   "execution_count": 6,
   "metadata": {},
   "outputs": [],
   "source": [
    "# on créé une liste contenant les articles : \n",
    "col = list(df.keys())\n",
    "# on créé une liste (descriptif) contenant, pour chaque article, une liste avec TOUS les mots retenus dans la description\n",
    "descriptif = []\n",
    "for cle in col:\n",
    "    desc = df[cle][0]\n",
    "    descriptif.append(decoupe(desc))\n"
   ]
  },
  {
   "cell_type": "code",
   "execution_count": 7,
   "metadata": {},
   "outputs": [
    {
     "data": {
      "text/plain": [
       "[['bande',\n",
       "  'dessinee',\n",
       "  'ouvrage',\n",
       "  'illustre',\n",
       "  'racontant',\n",
       "  'histoire',\n",
       "  'images',\n",
       "  'aventure',\n",
       "  'fantaisie',\n",
       "  'lire'],\n",
       " ['roman',\n",
       "  'ouvrage',\n",
       "  'avec',\n",
       "  'texte',\n",
       "  'raconte',\n",
       "  'histoire',\n",
       "  'biogaphie',\n",
       "  'aventure',\n",
       "  'documentaire',\n",
       "  'lire'],\n",
       " ['ordinateur',\n",
       "  'dispositif',\n",
       "  'pour',\n",
       "  'produire',\n",
       "  'consulter',\n",
       "  'objets',\n",
       "  'numeriques',\n",
       "  'communiquer',\n",
       "  'calculer',\n",
       "  'jouer',\n",
       "  'lire',\n",
       "  'videos'],\n",
       " ['console',\n",
       "  'dispositif',\n",
       "  'pour',\n",
       "  'jouer',\n",
       "  'jeux',\n",
       "  'videos',\n",
       "  'lire',\n",
       "  'videos',\n",
       "  'aventure',\n",
       "  'fantaisie']]"
      ]
     },
     "execution_count": 7,
     "metadata": {},
     "output_type": "execute_result"
    }
   ],
   "source": [
    "descriptif"
   ]
  },
  {
   "cell_type": "markdown",
   "metadata": {},
   "source": [
    "# Vecteurs\n",
    "L'étape suivante consiste à stocker chacune des descriptions traitées sous forme de vecteurs en base de données.\n",
    "\n",
    "Chaque ligne est un vecteur qui correspond à une description, chaque colonne correspond à un stem.\n",
    "\n",
    "La fonction `mots` retourne une liste contenant tous les mots de `descriptif`, de manière unique. (les mots qui apparaissent plusieurs fois dans `descriptif` ne sont renvoyés qu'une seule fois dans la liste `mot`\n",
    "\n",
    "La fonction `tab` créé un tableau où les lignes correspondent au nombre d'occurences de ce mot dans la description de l'objet. La ligne de rang 1 correspond aux occurences pour le premier objet de la description, la ligne de rang 2 au 2e objet de la description,...\n",
    "\n",
    "Pour avoir des valeurs normalisées, on transforme ces occurences en une frequence : \n",
    "$$f(mot) = \\tfrac{nb\\quad occurences}{nb\\quad mots}$$"
   ]
  },
  {
   "cell_type": "code",
   "execution_count": 8,
   "metadata": {},
   "outputs": [
    {
     "data": {
      "text/plain": [
       "['bande',\n",
       " 'dessinee',\n",
       " 'ouvrage',\n",
       " 'illustre',\n",
       " 'racontant',\n",
       " 'histoire',\n",
       " 'images',\n",
       " 'aventure',\n",
       " 'fantaisie',\n",
       " 'lire',\n",
       " 'roman',\n",
       " 'avec',\n",
       " 'texte',\n",
       " 'raconte',\n",
       " 'biogaphie',\n",
       " 'documentaire',\n",
       " 'ordinateur',\n",
       " 'dispositif',\n",
       " 'pour',\n",
       " 'produire',\n",
       " 'consulter',\n",
       " 'objets',\n",
       " 'numeriques',\n",
       " 'communiquer',\n",
       " 'calculer',\n",
       " 'jouer',\n",
       " 'videos',\n",
       " 'console',\n",
       " 'jeux']"
      ]
     },
     "execution_count": 8,
     "metadata": {},
     "output_type": "execute_result"
    }
   ],
   "source": [
    "def mots(descriptif):\n",
    "    \"\"\"\n",
    "    retourne la liste de tous les mots de descriptif, de manière unique, dans une seule liste\n",
    "    \"\"\"\n",
    "    liste_de_mots = []\n",
    "    for desc in descriptif:\n",
    "        for i in desc : \n",
    "            if not(i in liste_de_mots):\n",
    "                liste_de_mots.append(i)\n",
    "    return liste_de_mots\n",
    "\n",
    "mots(descriptif)"
   ]
  },
  {
   "cell_type": "code",
   "execution_count": 9,
   "metadata": {},
   "outputs": [
    {
     "name": "stdout",
     "output_type": "stream",
     "text": [
      "[[0.1, 0.1, 0.1, 0.1, 0.1, 0.1, 0.1, 0.1, 0.1, 0.1, 0.0, 0.0, 0.0, 0.0, 0.0, 0.0, 0.0, 0.0, 0.0, 0.0, 0.0, 0.0, 0.0, 0.0, 0.0, 0.0, 0.0, 0.0, 0.0], [0.0, 0.0, 0.1, 0.0, 0.0, 0.1, 0.0, 0.1, 0.0, 0.1, 0.1, 0.1, 0.1, 0.1, 0.1, 0.1, 0.0, 0.0, 0.0, 0.0, 0.0, 0.0, 0.0, 0.0, 0.0, 0.0, 0.0, 0.0, 0.0], [0.0, 0.0, 0.0, 0.0, 0.0, 0.0, 0.0, 0.0, 0.0, 0.08333333333333333, 0.0, 0.0, 0.0, 0.0, 0.0, 0.0, 0.08333333333333333, 0.08333333333333333, 0.08333333333333333, 0.08333333333333333, 0.08333333333333333, 0.08333333333333333, 0.08333333333333333, 0.08333333333333333, 0.08333333333333333, 0.08333333333333333, 0.08333333333333333, 0.0, 0.0], [0.0, 0.0, 0.0, 0.0, 0.0, 0.0, 0.0, 0.1, 0.1, 0.1, 0.0, 0.0, 0.0, 0.0, 0.0, 0.0, 0.0, 0.1, 0.1, 0.0, 0.0, 0.0, 0.0, 0.0, 0.0, 0.1, 0.2, 0.1, 0.1]]\n"
     ]
    }
   ],
   "source": [
    "def tab(descriptif):\n",
    "    \"\"\"\n",
    "    retourne la liste tableau avec les occurences pour chaque article (chaque rang) \n",
    "    des mots retenus (mots)\n",
    "    une colonne par mot\n",
    "    \"\"\"\n",
    "    tableau = []\n",
    "    mots_elements = mots(descriptif)\n",
    "    for desc in descriptif:\n",
    "        ligne = []\n",
    "        nombre_de_mots = len(desc)\n",
    "        ligne = [desc.count(mot)/nombre_de_mots for mot in mots_elements]\n",
    "        tableau.append(ligne)\n",
    "    return tableau\n",
    "tableau = tab(descriptif)\n",
    "print(tableau)"
   ]
  },
  {
   "cell_type": "code",
   "execution_count": 10,
   "metadata": {},
   "outputs": [
    {
     "data": {
      "text/html": [
       "<div>\n",
       "<style scoped>\n",
       "    .dataframe tbody tr th:only-of-type {\n",
       "        vertical-align: middle;\n",
       "    }\n",
       "\n",
       "    .dataframe tbody tr th {\n",
       "        vertical-align: top;\n",
       "    }\n",
       "\n",
       "    .dataframe thead th {\n",
       "        text-align: right;\n",
       "    }\n",
       "</style>\n",
       "<table border=\"1\" class=\"dataframe\">\n",
       "  <thead>\n",
       "    <tr style=\"text-align: right;\">\n",
       "      <th></th>\n",
       "      <th>bande</th>\n",
       "      <th>dessinee</th>\n",
       "      <th>ouvrage</th>\n",
       "      <th>illustre</th>\n",
       "      <th>racontant</th>\n",
       "      <th>histoire</th>\n",
       "      <th>images</th>\n",
       "      <th>aventure</th>\n",
       "      <th>fantaisie</th>\n",
       "      <th>lire</th>\n",
       "      <th>...</th>\n",
       "      <th>produire</th>\n",
       "      <th>consulter</th>\n",
       "      <th>objets</th>\n",
       "      <th>numeriques</th>\n",
       "      <th>communiquer</th>\n",
       "      <th>calculer</th>\n",
       "      <th>jouer</th>\n",
       "      <th>videos</th>\n",
       "      <th>console</th>\n",
       "      <th>jeux</th>\n",
       "    </tr>\n",
       "  </thead>\n",
       "  <tbody>\n",
       "    <tr>\n",
       "      <th>bande dessinee</th>\n",
       "      <td>0.1</td>\n",
       "      <td>0.1</td>\n",
       "      <td>0.1</td>\n",
       "      <td>0.1</td>\n",
       "      <td>0.1</td>\n",
       "      <td>0.1</td>\n",
       "      <td>0.1</td>\n",
       "      <td>0.1</td>\n",
       "      <td>0.1</td>\n",
       "      <td>0.100000</td>\n",
       "      <td>...</td>\n",
       "      <td>0.000000</td>\n",
       "      <td>0.000000</td>\n",
       "      <td>0.000000</td>\n",
       "      <td>0.000000</td>\n",
       "      <td>0.000000</td>\n",
       "      <td>0.000000</td>\n",
       "      <td>0.000000</td>\n",
       "      <td>0.000000</td>\n",
       "      <td>0.0</td>\n",
       "      <td>0.0</td>\n",
       "    </tr>\n",
       "    <tr>\n",
       "      <th>roman</th>\n",
       "      <td>0.0</td>\n",
       "      <td>0.0</td>\n",
       "      <td>0.1</td>\n",
       "      <td>0.0</td>\n",
       "      <td>0.0</td>\n",
       "      <td>0.1</td>\n",
       "      <td>0.0</td>\n",
       "      <td>0.1</td>\n",
       "      <td>0.0</td>\n",
       "      <td>0.100000</td>\n",
       "      <td>...</td>\n",
       "      <td>0.000000</td>\n",
       "      <td>0.000000</td>\n",
       "      <td>0.000000</td>\n",
       "      <td>0.000000</td>\n",
       "      <td>0.000000</td>\n",
       "      <td>0.000000</td>\n",
       "      <td>0.000000</td>\n",
       "      <td>0.000000</td>\n",
       "      <td>0.0</td>\n",
       "      <td>0.0</td>\n",
       "    </tr>\n",
       "    <tr>\n",
       "      <th>ordinateur</th>\n",
       "      <td>0.0</td>\n",
       "      <td>0.0</td>\n",
       "      <td>0.0</td>\n",
       "      <td>0.0</td>\n",
       "      <td>0.0</td>\n",
       "      <td>0.0</td>\n",
       "      <td>0.0</td>\n",
       "      <td>0.0</td>\n",
       "      <td>0.0</td>\n",
       "      <td>0.083333</td>\n",
       "      <td>...</td>\n",
       "      <td>0.083333</td>\n",
       "      <td>0.083333</td>\n",
       "      <td>0.083333</td>\n",
       "      <td>0.083333</td>\n",
       "      <td>0.083333</td>\n",
       "      <td>0.083333</td>\n",
       "      <td>0.083333</td>\n",
       "      <td>0.083333</td>\n",
       "      <td>0.0</td>\n",
       "      <td>0.0</td>\n",
       "    </tr>\n",
       "    <tr>\n",
       "      <th>console de jeux</th>\n",
       "      <td>0.0</td>\n",
       "      <td>0.0</td>\n",
       "      <td>0.0</td>\n",
       "      <td>0.0</td>\n",
       "      <td>0.0</td>\n",
       "      <td>0.0</td>\n",
       "      <td>0.0</td>\n",
       "      <td>0.1</td>\n",
       "      <td>0.1</td>\n",
       "      <td>0.100000</td>\n",
       "      <td>...</td>\n",
       "      <td>0.000000</td>\n",
       "      <td>0.000000</td>\n",
       "      <td>0.000000</td>\n",
       "      <td>0.000000</td>\n",
       "      <td>0.000000</td>\n",
       "      <td>0.000000</td>\n",
       "      <td>0.100000</td>\n",
       "      <td>0.200000</td>\n",
       "      <td>0.1</td>\n",
       "      <td>0.1</td>\n",
       "    </tr>\n",
       "  </tbody>\n",
       "</table>\n",
       "<p>4 rows × 29 columns</p>\n",
       "</div>"
      ],
      "text/plain": [
       "                 bande  dessinee  ouvrage  illustre  racontant  histoire  \\\n",
       "bande dessinee     0.1       0.1      0.1       0.1        0.1       0.1   \n",
       "roman              0.0       0.0      0.1       0.0        0.0       0.1   \n",
       "ordinateur         0.0       0.0      0.0       0.0        0.0       0.0   \n",
       "console de jeux    0.0       0.0      0.0       0.0        0.0       0.0   \n",
       "\n",
       "                 images  aventure  fantaisie      lire  ...  produire  \\\n",
       "bande dessinee      0.1       0.1        0.1  0.100000  ...  0.000000   \n",
       "roman               0.0       0.1        0.0  0.100000  ...  0.000000   \n",
       "ordinateur          0.0       0.0        0.0  0.083333  ...  0.083333   \n",
       "console de jeux     0.0       0.1        0.1  0.100000  ...  0.000000   \n",
       "\n",
       "                 consulter    objets  numeriques  communiquer  calculer  \\\n",
       "bande dessinee    0.000000  0.000000    0.000000     0.000000  0.000000   \n",
       "roman             0.000000  0.000000    0.000000     0.000000  0.000000   \n",
       "ordinateur        0.083333  0.083333    0.083333     0.083333  0.083333   \n",
       "console de jeux   0.000000  0.000000    0.000000     0.000000  0.000000   \n",
       "\n",
       "                    jouer    videos  console  jeux  \n",
       "bande dessinee   0.000000  0.000000      0.0   0.0  \n",
       "roman            0.000000  0.000000      0.0   0.0  \n",
       "ordinateur       0.083333  0.083333      0.0   0.0  \n",
       "console de jeux  0.100000  0.200000      0.1   0.1  \n",
       "\n",
       "[4 rows x 29 columns]"
      ]
     },
     "execution_count": 10,
     "metadata": {},
     "output_type": "execute_result"
    }
   ],
   "source": [
    "# visualisation\n",
    "df2=pd.DataFrame(tableau,index=col,columns=mots(descriptif))\n",
    "df2"
   ]
  },
  {
   "cell_type": "markdown",
   "metadata": {},
   "source": [
    "# Calcul des similarités\n",
    "La dernière étape est celle du calcul des similarités. Cela consiste à appliquer la similarité cosinus 2 à 2 pour tous les produits de la base de données : \n",
    "$$s_{ij}=\\tfrac{u_i\\cdot u_j}{||ui||\\cdot||uj||}$$\n",
    "\n",
    "On cherche alors une règle de similitude, du type : A=>B (si on aime A alors on aurait tendance à aussi apprécier B)"
   ]
  },
  {
   "cell_type": "code",
   "execution_count": 11,
   "metadata": {},
   "outputs": [
    {
     "data": {
      "text/plain": [
       "array([[1.        , 0.4       , 0.09128709, 0.27386128],\n",
       "       [0.4       , 1.        , 0.09128709, 0.18257419],\n",
       "       [0.09128709, 0.09128709, 1.        , 0.5       ],\n",
       "       [0.27386128, 0.18257419, 0.5       , 1.        ]])"
      ]
     },
     "execution_count": 11,
     "metadata": {},
     "output_type": "execute_result"
    }
   ],
   "source": [
    "import numpy as np\n",
    "def cosij(ui,uj):\n",
    "    \"\"\"\n",
    "    retourne le resultat du calcul de s_ij pour 2 valeurs ui(i) et uj(j)\n",
    "    paramètres :\n",
    "    les vecteurs ui et uj de modules mod(ui) et mod(uj)\n",
    "    \"\"\"\n",
    "    s=0\n",
    "    for i in range(len(ui)):\n",
    "        s += ui[i]*uj[i]/(mod(ui)*mod(uj))\n",
    "    return s\n",
    "\n",
    "def mod(u):\n",
    "    \"\"\"\n",
    "    calcule le module du vecteur mis en paramètre\n",
    "    \"\"\"\n",
    "    s=0\n",
    "    for i in range(len(u)):\n",
    "        s += u[i]*u[i]\n",
    "    s = s**0.5\n",
    "    return s\n",
    "\n",
    "def matrice_cos(A,B):\n",
    "    \"\"\"\n",
    "    retourne la matrice de similitude entre 2 listes \n",
    "    de dimension 2 (liste de liste), A et B mises en paramètre\n",
    "    \"\"\"\n",
    "    C = np.zeros(shape=(len(A),len(B)))\n",
    "    for i in range(len(A)):\n",
    "        for j in range(len(B)):\n",
    "            C[i,j]=cosij(A[i],B[j])\n",
    "    return C\n",
    "\n",
    "mat=matrice_cos(tableau,tableau)\n",
    "mat"
   ]
  },
  {
   "cell_type": "code",
   "execution_count": 12,
   "metadata": {},
   "outputs": [
    {
     "data": {
      "text/html": [
       "<div>\n",
       "<style scoped>\n",
       "    .dataframe tbody tr th:only-of-type {\n",
       "        vertical-align: middle;\n",
       "    }\n",
       "\n",
       "    .dataframe tbody tr th {\n",
       "        vertical-align: top;\n",
       "    }\n",
       "\n",
       "    .dataframe thead th {\n",
       "        text-align: right;\n",
       "    }\n",
       "</style>\n",
       "<table border=\"1\" class=\"dataframe\">\n",
       "  <thead>\n",
       "    <tr style=\"text-align: right;\">\n",
       "      <th></th>\n",
       "      <th>bande dessinee</th>\n",
       "      <th>roman</th>\n",
       "      <th>ordinateur</th>\n",
       "      <th>console de jeux</th>\n",
       "    </tr>\n",
       "  </thead>\n",
       "  <tbody>\n",
       "    <tr>\n",
       "      <th>bande dessinee</th>\n",
       "      <td>1.000000</td>\n",
       "      <td>0.400000</td>\n",
       "      <td>0.091287</td>\n",
       "      <td>0.273861</td>\n",
       "    </tr>\n",
       "    <tr>\n",
       "      <th>roman</th>\n",
       "      <td>0.400000</td>\n",
       "      <td>1.000000</td>\n",
       "      <td>0.091287</td>\n",
       "      <td>0.182574</td>\n",
       "    </tr>\n",
       "    <tr>\n",
       "      <th>ordinateur</th>\n",
       "      <td>0.091287</td>\n",
       "      <td>0.091287</td>\n",
       "      <td>1.000000</td>\n",
       "      <td>0.500000</td>\n",
       "    </tr>\n",
       "    <tr>\n",
       "      <th>console de jeux</th>\n",
       "      <td>0.273861</td>\n",
       "      <td>0.182574</td>\n",
       "      <td>0.500000</td>\n",
       "      <td>1.000000</td>\n",
       "    </tr>\n",
       "  </tbody>\n",
       "</table>\n",
       "</div>"
      ],
      "text/plain": [
       "                 bande dessinee     roman  ordinateur  console de jeux\n",
       "bande dessinee         1.000000  0.400000    0.091287         0.273861\n",
       "roman                  0.400000  1.000000    0.091287         0.182574\n",
       "ordinateur             0.091287  0.091287    1.000000         0.500000\n",
       "console de jeux        0.273861  0.182574    0.500000         1.000000"
      ]
     },
     "execution_count": 12,
     "metadata": {},
     "output_type": "execute_result"
    }
   ],
   "source": [
    "# visualisation du tableau grace à son DataFrame\n",
    "df3=pd.DataFrame(mat,index=col,columns=col)\n",
    "df3"
   ]
  },
  {
   "cell_type": "code",
   "execution_count": 15,
   "metadata": {},
   "outputs": [
    {
     "data": {
      "text/plain": [
       "<matplotlib.axes._subplots.AxesSubplot at 0x1a17767250>"
      ]
     },
     "execution_count": 15,
     "metadata": {},
     "output_type": "execute_result"
    },
    {
     "data": {
      "image/png": "[encoded data removed]",
      "text/plain": [
       "<Figure size 432x288 with 1 Axes>"
      ]
     },
     "metadata": {
      "needs_background": "light"
     },
     "output_type": "display_data"
    }
   ],
   "source": [
    "# visualisation à l'aide d'un outil en couleur\n",
    "import seaborn as sns\n",
    "import matplotlib.pyplot as plt\n",
    "col = list(df3.keys())\n",
    "sns.heatmap(mat, square=True, annot=True, cbar=False\n",
    "            , xticklabels=list(col)\n",
    "            , yticklabels=list(col))"
   ]
  },
  {
   "cell_type": "code",
   "execution_count": 16,
   "metadata": {},
   "outputs": [
    {
     "data": {
      "image/png": "[encoded data removed]",
      "text/plain": [
       "<Figure size 288x288 with 1 Axes>"
      ]
     },
     "metadata": {
      "needs_background": "light"
     },
     "output_type": "display_data"
    }
   ],
   "source": [
    "# visualisation avec matplotlib (un peu moins lisible)\n",
    "plt.matshow(mat, cmap='rainbow');"
   ]
  },
  {
   "cell_type": "markdown",
   "metadata": {},
   "source": [
    "## Interpretation\n",
    "On voit assez facilement que :\n",
    "\n",
    "* la *bande dessinée* est proche dans sa description avec le *roman*, avec un score de 0.4, et un un peu moins proche de la *console de jeux* (score de 0.27)\n",
    "* l'*ordinateur* est compatible avec la *console de jeux*, avec un score de 0.5 \n",
    "* La description de la *bande dessinnée* et du *roman* ne contient presque aucun point commun avec l'*ordinateur*\n",
    "\n"
   ]
  },
  {
   "cell_type": "code",
   "execution_count": 17,
   "metadata": {},
   "outputs": [
    {
     "name": "stdout",
     "output_type": "stream",
     "text": [
      "l'article \u001b[1m bande dessinee  \u001b[0;0m est similaire à \u001b[1mroman          \u001b[0;0m voire peut être un peu à \u001b[1mconsole de jeux\u001b[0;0m\n",
      "l'article \u001b[1m roman           \u001b[0;0m est similaire à \u001b[1mbande dessinee \u001b[0;0m voire peut être un peu à \u001b[1mconsole de jeux\u001b[0;0m\n",
      "l'article \u001b[1m ordinateur      \u001b[0;0m est similaire à \u001b[1mconsole de jeux\u001b[0;0m voire peut être un peu à \u001b[1mroman          \u001b[0;0m\n",
      "l'article \u001b[1m console de jeux \u001b[0;0m est similaire à \u001b[1mordinateur     \u001b[0;0m voire peut être un peu à \u001b[1mbande dessinee \u001b[0;0m\n"
     ]
    }
   ],
   "source": [
    "def articles(tab):\n",
    "    tab=tab.sort_values(ascending=False)\n",
    "    articles = list(tab.index.values)\n",
    "    recom = 'l\\'article \\033[1m {0:15} \\033[0;0m est similaire à \\033[1m{1:15}\\033[0;0m voire peut être un peu à \\033[1m{2:15}\\033[0;0m'.format(articles[0],articles[1],articles[2])\n",
    "    return recom\n",
    "\n",
    "def recommandation(dataf):\n",
    "    texte=[]\n",
    "    col = list(dataf.keys()) \n",
    "    for c in col:\n",
    "        tab_red=[]\n",
    "        tab_red = dataf[c]\n",
    "        texte.append(articles(tab_red))\n",
    "    return texte\n",
    "\n",
    "texte = recommandation(df3)\n",
    "for t in texte:\n",
    "    print(t)"
   ]
  },
  {
   "cell_type": "markdown",
   "metadata": {},
   "source": [
    "# definir des classes à l'aide d'une représentation en graphe\n"
   ]
  },
  {
   "cell_type": "code",
   "execution_count": 289,
   "metadata": {},
   "outputs": [
    {
     "data": {
      "image/png": "[encoded data removed]",
      "text/plain": [
       "<Figure size 432x288 with 1 Axes>"
      ]
     },
     "metadata": {},
     "output_type": "display_data"
    }
   ],
   "source": [
    "import matplotlib.pyplot as plt\n",
    "import networkx as nx\n",
    "\n",
    "mat=matrice_cos(tableau,tableau)\n",
    "col = list(df3.keys())\n",
    "\n",
    "G = nx.Graph()\n",
    "\n",
    "def makeG(mat,col):\n",
    "    \"\"\"\n",
    "    creation du graphe G à partir : \n",
    "    - du paramètre col : la liste des lés (colonnes) du DataFrame fg3 (equiv à la matrice de similitude)\n",
    "    - du paramètre mat : la matrice de similitude déjà calculée\n",
    "    Les noeuds du graphe sont constitués à partir des articles\n",
    "    Les arêtes sont pondérés d'un poids weight qui est la valeur lue dans la matrice de similitude mat\n",
    "    \"\"\"\n",
    "    for i in range(len(mat[:,0])):\n",
    "        for j in range(len(mat[0,:])):\n",
    "            G.add_edge(col[i], col[j], weight=mat[i,j])\n",
    "    return G\n",
    "\n",
    "\n",
    "    \n",
    "\n",
    "#G.add_edge('a', 'b', weight=0.6)\n",
    "\n",
    "\n",
    "def drawG(G,seuil):\n",
    "    \"\"\"\n",
    "    segmentation de arêtes en fonction du paramètre seuil\n",
    "    - les arêtes de weight >= seuil sont représentées en trait plein sur le graphe\n",
    "    - celle de weight < seuil sont représentées en trait pointillé\n",
    "    \"\"\"\n",
    "    elarge = [(u, v) for (u, v, d) in G.edges(data=True) if d['weight'] >= seuil]\n",
    "    esmall = [(u, v) for (u, v, d) in G.edges(data=True) if d['weight'] < seuil]\n",
    "    pos = nx.spring_layout(G)  # positions for all nodes\n",
    "    # nodes\n",
    "    nx.draw_networkx_nodes(G, pos, node_size=700)\n",
    "    # edges\n",
    "    nx.draw_networkx_edges(G, pos, edgelist=elarge,width=6)\n",
    "    nx.draw_networkx_edges(G, pos, edgelist=esmall,width=2, alpha=0.5, edge_color='b', style='dashed')\n",
    "    # labels\n",
    "    nx.draw_networkx_labels(G, pos, font_size=20, font_family='sans-serif')\n",
    "    plt.axis('off')\n",
    "    plt.show()\n",
    "    \n",
    "G = makeG(mat,col)\n",
    "drawG(G,0.3)"
   ]
  },
  {
   "cell_type": "markdown",
   "metadata": {},
   "source": [
    "## Interprétation\n",
    "Il apparait ici clairement 2 classes en choisissant seuil = 0.3 : \n",
    "    \n",
    "* les articles du genre littérature\n",
    "* les articles du genre électronique"
   ]
  },
  {
   "cell_type": "markdown",
   "metadata": {},
   "source": [
    "# Classification\n",
    "L'arbre de classification peut être utile dans le cas \n",
    "L’apprentissage par arbre de décision désigne une méthode basée sur l'utilisation d'un arbre de décision comme modèle prédictif. Dans ces structures d'arbre, les feuilles représentent les valeurs de la variable-cible (les classes) et les embranchements correspondent à des combinaisons de variables d'entrée qui mènent à ces valeurs. En analyse de décision, un arbre de décision peut être utilisé pour représenter de manière explicite les décisions réalisées et les processus qui les amènent.\n",
    "\n",
    "Une des variables d'entrée est sélectionnée à chaque nœud intérieur (ou interne, nœud qui n'est pas terminal) de l'arbre selon une méthode qui dépend de l'algorithme.\n",
    "\n",
    "L'arbre est en général construit en séparant l'ensemble des données en sous-ensembles en fonction de la valeur d'une caractéristique d'entrée. Il est construit de manière récursive. C'est un algorithme glouton.\n",
    "\n",
    "Plus de détail : [https://fr.wikipedia.org/wiki/Arbre_de_décision_(apprentissage)](https://fr.wikipedia.org/wiki/Arbre_de_décision_(apprentissage))\n",
    "\n",
    "Il existe ainsi les :\n",
    "\n",
    "* arbres de classification (feuille = classe)\n",
    "* arbres de regression, qui permettent de prédire une quantité réelle \n",
    "\n",
    "Les algorithmes pour construire les arbres de décision sont construits en divisant l'arbre du sommet vers les feuilles en choisissant à chaque étape une variable d'entrée qui réalise le meilleur partage de l'ensemble d'objets, comme décrit précédemment. Pour choisir la variable de séparation sur un nœud, les algorithmes testent les différentes variables d'entrée possibles et sélectionnent celle qui maximise un critère donné."
   ]
  },
  {
   "cell_type": "code",
   "execution_count": null,
   "metadata": {},
   "outputs": [],
   "source": []
  }
 ],
 "metadata": {
  "kernelspec": {
   "display_name": "Python 3",
   "language": "python",
   "name": "python3"
  },
  "language_info": {
   "codemirror_mode": {
    "name": "ipython",
    "version": 3
   },
   "file_extension": ".py",
   "mimetype": "text/x-python",
   "name": "python",
   "nbconvert_exporter": "python",
   "pygments_lexer": "ipython3",
   "version": "3.7.6"
  }
 },
 "nbformat": 4,
 "nbformat_minor": 4
}
